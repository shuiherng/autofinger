{
 "cells": [
  {
   "cell_type": "markdown",
   "metadata": {},
   "source": [
    "References:\n",
    "- Automatic Music Score Recognition System Using Digital Image Processing (Chang et al.)\n",
    "- https://github.com/acieroid/overscore"
   ]
  },
  {
   "cell_type": "code",
   "execution_count": 143,
   "metadata": {},
   "outputs": [],
   "source": [
    "import os\n",
    "import sys\n",
    "import cv2\n",
    "import logging\n",
    "\n",
    "from itertools import chain\n",
    "from string import digits\n",
    "\n",
    "sys.path.insert(1, os.path.join(sys.path[0], '..'))\n",
    "from preprocessors import Opener, Grayscaler\n",
    "\n",
    "from pprint import pprint\n",
    "\n",
    "# for showing images in notebook\n",
    "from matplotlib import pyplot as plt\n",
    "import numpy as np"
   ]
  },
  {
   "cell_type": "code",
   "execution_count": 2,
   "metadata": {},
   "outputs": [],
   "source": [
    "DATA_DIR = ['../data/package_aa', '../data/package_ab']"
   ]
  },
  {
   "cell_type": "code",
   "execution_count": 168,
   "metadata": {},
   "outputs": [],
   "source": [
    "# test_path = '../data/package_aa/000051650-1_1_1/000051650-1_1_1.png'\n",
    "# test_path = '../data/package_ab/110002956-1_30_1/110002956-1_30_1.png'\n",
    "test_path = '../data/package_aa/000051661-1_1_1/000051661-1_1_1.png'"
   ]
  },
  {
   "cell_type": "markdown",
   "metadata": {},
   "source": [
    "Generate placement coordinates from image and corresponding semantic notation"
   ]
  },
  {
   "cell_type": "code",
   "execution_count": 3,
   "metadata": {},
   "outputs": [],
   "source": [
    "def get_placement_coordinates(image, tokens):\n",
    "    tokens = '\\t'.join(tokens)\n",
    "    tokens = tokens.split('\\t')\n",
    "    print(tokens)\n",
    "    "
   ]
  },
  {
   "cell_type": "markdown",
   "metadata": {},
   "source": [
    "Get image and semantic data from dataset"
   ]
  },
  {
   "cell_type": "code",
   "execution_count": 26,
   "metadata": {},
   "outputs": [],
   "source": [
    "def get_image_semantics_data(data_src):\n",
    "    for src in data_src:\n",
    "        for i, folder in enumerate(next(os.walk(src))[1]):\n",
    "            semantic_path = os.path.join(src, folder, \"{}.semantic\".format(folder))\n",
    "            img_path = os.path.join(src, folder, \"{}.png\")\n",
    "            yield semantic_path, img_path"
   ]
  },
  {
   "cell_type": "code",
   "execution_count": 130,
   "metadata": {},
   "outputs": [],
   "source": [
    "class DocumentWorkflow:\n",
    "    def __init__(self,\n",
    "                 preprocessor_pipeline,\n",
    "                 force_output_process=False):\n",
    "        self.preprocessors = preprocessor_pipeline\n",
    "        self.force_output_process = force_output_process\n",
    "    \n",
    "    def __call__(self, image):\n",
    "        if self.force_output_process:\n",
    "            self.preprocessors.set_force_output_process()\n",
    "        \n",
    "        image = self.preprocessors(image)\n",
    "        if self.force_output_process:\n",
    "            cv2.imwrite('output/stage_1_preprocess.jpg', image)"
   ]
  },
  {
   "cell_type": "code",
   "execution_count": 149,
   "metadata": {},
   "outputs": [],
   "source": [
    "class PreprocessorPipeline:\n",
    "    def __init__(self):\n",
    "        self.filters = []\n",
    "    def set_force_output_process(self):\n",
    "        for f in self.filters:\n",
    "            f.output_process = True\n",
    "    \n",
    "    def __call__(self, image):\n",
    "        for f in self.filters:\n",
    "            image = f(image)\n",
    "        return image\n",
    "    "
   ]
  },
  {
   "cell_type": "markdown",
   "metadata": {},
   "source": [
    "Main Workflow"
   ]
  },
  {
   "cell_type": "code",
   "execution_count": 235,
   "metadata": {},
   "outputs": [],
   "source": [
    "class LineRemover:\n",
    "    \"\"\"\n",
    "    Removes staff lines on an image.\n",
    "    \n",
    "    Params\n",
    "    ------\n",
    "    line_threshold_tolerance    how much difference between histogram max and current row length \n",
    "                                is allowed when determining staff lines\n",
    "    image    is the image to have lines removed\n",
    "    \n",
    "    Returns\n",
    "    ------\n",
    "    Image without the lines\n",
    "    \"\"\"\n",
    "    def __init__(self, line_threshold_tolerance=10, output_process = False):\n",
    "        self.line_threshold_tolerance = line_threshold_tolerance\n",
    "        self.output_process = output_process\n",
    "    def __call__(self, image):\n",
    "        hist = image.shape[1] - image.sum(axis=1)//256\n",
    "        if self.output_process:\n",
    "            output = image.copy()\n",
    "            output = cv2.cvtColor(image, cv2.COLOR_GRAY2RGB)\n",
    "            hist_output = np.zeros((image.shape[0], image.shape[1], 3)).astype(output.dtype)\n",
    "            for r, r_o in zip(hist, hist_output):\n",
    "                r = min(r, output.shape[1])\n",
    "                r_o[:r] = [0, 0, 255]\n",
    "            output = cv2.addWeighted(output, 0.8, hist_output, 0.8,0)\n",
    "            cv2.imwrite('output/line_remover_horizontal_histogram.jpg', output)\n",
    "        \n",
    "        line_removed = image.copy()\n",
    "        line_threshold = max(hist)\n",
    "        for r, r_m in zip(hist, line_removed):\n",
    "            if abs(line_threshold-r) < self.line_threshold_tolerance:\n",
    "                r_m[:] = 255\n",
    "        \n",
    "        if self.output_process:\n",
    "            cv2.imwrite('output/line_removed.jpg', line_removed)\n",
    "            \n",
    "        return line_removed"
   ]
  },
  {
   "cell_type": "code",
   "execution_count": 245,
   "metadata": {},
   "outputs": [],
   "source": [
    "image = cv2.imread(test_path)\n",
    "\n",
    "preprocessors = PreprocessorPipeline()\n",
    "preprocessors.filters += [Grayscaler(),\n",
    "                          LineRemover(),\n",
    "                          Opener(kernel_size=5, iterations=2),\n",
    "                          Opener(kernel_size=3, iterations=1)]\n",
    "\n",
    "document_workflow = DocumentWorkflow(preprocessors, force_output_process=True)\n",
    "output = document_workflow(image)"
   ]
  },
  {
   "cell_type": "code",
   "execution_count": null,
   "metadata": {},
   "outputs": [],
   "source": []
  },
  {
   "cell_type": "code",
   "execution_count": null,
   "metadata": {},
   "outputs": [],
   "source": []
  }
 ],
 "metadata": {
  "kernelspec": {
   "display_name": "Python 3",
   "language": "python",
   "name": "python3"
  },
  "language_info": {
   "codemirror_mode": {
    "name": "ipython",
    "version": 3
   },
   "file_extension": ".py",
   "mimetype": "text/x-python",
   "name": "python",
   "nbconvert_exporter": "python",
   "pygments_lexer": "ipython3",
   "version": "3.7.6"
  }
 },
 "nbformat": 4,
 "nbformat_minor": 4
}
