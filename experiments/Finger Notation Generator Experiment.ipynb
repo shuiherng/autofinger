{
 "cells": [
  {
   "cell_type": "markdown",
   "metadata": {},
   "source": [
    "Construct Data Pipeline:\n",
    "Raw Data in Directory --> Extract Semantics Data --> Get Encoding --> Collect into batches --> Yield labels from expert system --> Model Training"
   ]
  },
  {
   "cell_type": "code",
   "execution_count": 3,
   "metadata": {},
   "outputs": [],
   "source": [
    "import os\n",
    "import sys\n",
    "import constraint\n",
    "\n",
    "from itertools import chain\n",
    "from string import digits\n",
    "\n",
    "from pprint import pprint\n",
    "# Technically no need to import semantics_generator for this experiment,\n",
    "# Can simply use semantics file as ground truth\n",
    "# sys.path.insert(1, os.path.join(sys.path[0], '..'))\n",
    "# import semantics_generator"
   ]
  },
  {
   "cell_type": "code",
   "execution_count": 4,
   "metadata": {},
   "outputs": [],
   "source": [
    "DATA_DIR = ['../data/package_aa', '../data/package_ab']\n",
    "BATCH_SIZE = 10"
   ]
  },
  {
   "cell_type": "markdown",
   "metadata": {},
   "source": [
    "Convert Notes into black/non-black key encoding and semitone distances"
   ]
  },
  {
   "cell_type": "code",
   "execution_count": 5,
   "metadata": {},
   "outputs": [],
   "source": [
    "# static variables for encoding inputs into black/non-black keys and semitone distances\n",
    "BLACK_KEYS = set(['C#','Bb','D#','Eb','F#','Gb','G#','Ab','A#','Bb'])\n",
    "KEY_MAP = {'Cb': -1, 'C': 0, 'C#': 1, 'Db': 1, 'D': 2, 'D#': 3, 'Eb': 3,\n",
    "           'E': 4, 'Fb': 4, 'E#': 5, 'F': 5, 'F#': 6, 'Gb': 6, 'G': 7, 'G#': 8,\n",
    "           'Ab': 8, 'A': 9, 'A#': 10, 'Bb': 10, 'B': 11, 'B#': 12}\n",
    "REMOVE_DIGITS = str.maketrans('', '', digits)\n",
    "OCTAVE_SEMITONES = 12"
   ]
  },
  {
   "cell_type": "code",
   "execution_count": 6,
   "metadata": {},
   "outputs": [],
   "source": [
    "# Enumerate black keys. Do not filter by checking for '#' or 'b' in the string, because\n",
    "# composers sometimes write things like E# or Cb, which are not black keys.\n",
    "# The string translate() method is faster than iterating manually.\n",
    "def is_black_key(key):\n",
    "    key = key.translate(REMOVE_DIGITS)\n",
    "    return key in BLACK_KEYS"
   ]
  },
  {
   "cell_type": "code",
   "execution_count": 7,
   "metadata": {},
   "outputs": [],
   "source": [
    "# Get semitone distance\n",
    "# if no octave digit indicators in input, assume all to be the same\n",
    "# octave 4 was arbitrarily picked as C4 is middle C.\n",
    "def get_semitone_distances(notes):\n",
    "    # fill in missing octave digits\n",
    "    notes = [x for x in map(lambda n: n if any(i.isdigit() for i in n) else n+'4', notes)]\n",
    "    \n",
    "    # compute semitone differences\n",
    "    # initialize first note semitone distance to 0\n",
    "    notes = [notes[0]] + notes\n",
    "    diffs = []\n",
    "    for i in range(len(notes) - 1):\n",
    "        before = notes[i]\n",
    "        after = notes[i+1]\n",
    "        \n",
    "        before = int(before[-1]) * OCTAVE_SEMITONES + KEY_MAP[before[:-1]]\n",
    "        after = int(after[-1]) * OCTAVE_SEMITONES + KEY_MAP[after[:-1]]\n",
    "        diffs.append(after - before)\n",
    "    return diffs"
   ]
  },
  {
   "cell_type": "code",
   "execution_count": 8,
   "metadata": {},
   "outputs": [],
   "source": [
    "# encodes tokens as inputs to model\n",
    "# for the piano model, we don't really care which octave we're at\n",
    "# in fact, we can simplify the notes into semitone distance from previous note,\n",
    "# and whether the current note is a white or black key (affects ease of playing)\n",
    "# note that the primus dataset does not have double-sharp/flat as inputs\n",
    "def get_encoding(tokens):\n",
    "    # combine multiple lines, if any\n",
    "    tokens = '\\t'.join(tokens)\n",
    "    tokens = tokens.split('\\t')\n",
    "    # only use notes\n",
    "    tokens = [y for y in filter(lambda x: x.startswith('note-') or x.startswith('gracenote-'), tokens)]\n",
    "    # ignore note lengths\n",
    "    tokens = [y for y in map(lambda x: x.split('_')[0][5:] if x.startswith('note-') else x.split('_')[0][10:]\n",
    "                             , tokens)]\n",
    "    # get black_keys\n",
    "    black_keys = [x for x in map(is_black_key, tokens)]\n",
    "    semitone_distances = get_semitone_distances(tokens)\n",
    "    \n",
    "    return [(x,y) for x, y in zip(black_keys, semitone_distances)]\n",
    "    "
   ]
  },
  {
   "cell_type": "markdown",
   "metadata": {},
   "source": [
    "Heuristic-based labelling"
   ]
  },
  {
   "cell_type": "code",
   "execution_count": 18,
   "metadata": {},
   "outputs": [],
   "source": [
    "# Treats this as a constraint satisfaction problem, with heuristics as strict constraints\n",
    "# An alternative neighbourhood-search algorithm exists at https://qmro.qmul.ac.uk/xmlui/bitstream/handle/123456789/11801/Herremans%20A%20variable%20neighborhood%20search%20algorithm%202015%20Accepted.pdf\n",
    "# but it is over-engineered for this purpose\n",
    "def solve(enc):\n",
    "    variables = ['v{}'.format(i) for i in range(len(enc))]\n",
    "    problem = constraint.Problem()\n",
    "    for v in variables:\n",
    "        problem.addVariable(v, range(1,6))\n",
    "        \n",
    "    for i in range(0, len(variables) - 1):\n",
    "        problem.addConstraint(constraint.ExactSumConstraint(30))\n",
    "        \n",
    "    print(problem.getSolution())"
   ]
  },
  {
   "cell_type": "markdown",
   "metadata": {},
   "source": [
    "Pull data from data directory/directories"
   ]
  },
  {
   "cell_type": "code",
   "execution_count": 9,
   "metadata": {},
   "outputs": [],
   "source": [
    "# Get semantic data from dataset\n",
    "# assumes data path is data_src[i]/folder_name/folder_name.semantic, in-line with primus dataset\n",
    "def get_semantics_data(data_src):\n",
    "    for src in data_src:\n",
    "        for i, folder in enumerate(next(os.walk(src))[1]):\n",
    "            # print(os.path.join(DATA_DIR, folder)) # this looks disgusting on windows lmao\n",
    "            path_to_file = os.path.join(src, folder, \"{}.semantic\".format(folder))\n",
    "            with open(path_to_file, \"r\") as f:\n",
    "                try:\n",
    "                    yield f.readlines()\n",
    "                except FileNotFoundError:\n",
    "                    logging.warn(\"Data file not found: {}\".format(path_to_file))\n",
    "    "
   ]
  },
  {
   "cell_type": "markdown",
   "metadata": {},
   "source": [
    "Execution Main"
   ]
  },
  {
   "cell_type": "code",
   "execution_count": 10,
   "metadata": {},
   "outputs": [],
   "source": [
    "def main():\n",
    "    for i, semantics_data in enumerate(get_semantics_data(DATA_DIR)):\n",
    "        encoding = get_encoding(semantics_data)\n",
    "        pseudo_labels = solve(encoding)\n",
    "        pprint(semantics_data)\n",
    "        pprint(encoding)\n",
    "        break"
   ]
  },
  {
   "cell_type": "code",
   "execution_count": 19,
   "metadata": {},
   "outputs": [
    {
     "name": "stdout",
     "output_type": "stream",
     "text": [
      "{'v0': 5, 'v1': 5, 'v10': 5, 'v11': 5, 'v12': 1, 'v13': 1, 'v2': 1, 'v3': 1, 'v4': 1, 'v5': 1, 'v6': 1, 'v7': 1, 'v8': 1, 'v9': 1}\n",
      "['clef-G2\\tkeySignature-EbM\\ttimeSignature-3/4\\tnote-Bb5_quarter\\t'\n",
      " 'note-Eb5_eighth\\tnote-Bb5_eighth\\tnote-C6_eighth\\tnote-Bb5_eighth\\tbarline\\t'\n",
      " 'note-Ab5_eighth\\tnote-Ab5_eighth\\trest-sixteenth\\tnote-Ab5_sixteenth\\t'\n",
      " 'note-G5_sixteenth\\tnote-Ab5_sixteenth\\tnote-Bb5_sixteenth\\t'\n",
      " 'note-Ab5_sixteenth\\tnote-G5_sixteenth\\tnote-Ab5_sixteenth\\tbarline\\t']\n",
      "[(True, 0),\n",
      " (True, -7),\n",
      " (True, 7),\n",
      " (False, 2),\n",
      " (True, -2),\n",
      " (True, -2),\n",
      " (True, 0),\n",
      " (True, 0),\n",
      " (False, -1),\n",
      " (True, 1),\n",
      " (True, 2),\n",
      " (True, -2),\n",
      " (False, -1),\n",
      " (True, 1)]\n"
     ]
    }
   ],
   "source": [
    "main()"
   ]
  },
  {
   "cell_type": "code",
   "execution_count": null,
   "metadata": {},
   "outputs": [],
   "source": []
  }
 ],
 "metadata": {
  "kernelspec": {
   "display_name": "Python 3",
   "language": "python",
   "name": "python3"
  },
  "language_info": {
   "codemirror_mode": {
    "name": "ipython",
    "version": 3
   },
   "file_extension": ".py",
   "mimetype": "text/x-python",
   "name": "python",
   "nbconvert_exporter": "python",
   "pygments_lexer": "ipython3",
   "version": "3.7.6"
  }
 },
 "nbformat": 4,
 "nbformat_minor": 4
}
