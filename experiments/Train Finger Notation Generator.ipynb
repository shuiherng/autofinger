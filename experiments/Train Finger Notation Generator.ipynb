{
 "cells": [
  {
   "cell_type": "code",
   "execution_count": 109,
   "metadata": {},
   "outputs": [],
   "source": [
    "import os\n",
    "import logging\n",
    "import pickle\n",
    "\n",
    "import pandas as pd\n",
    "import numpy as np\n",
    "\n",
    "from string import digits"
   ]
  },
  {
   "cell_type": "code",
   "execution_count": 232,
   "metadata": {},
   "outputs": [],
   "source": [
    "import tensorflow as tf\n",
    "from tensorflow.keras.layers import Embedding, Dense, LSTM, Bidirectional, TimeDistributed\n",
    "from tensorflow.keras.losses import CategoricalCrossentropy\n",
    "from tensorflow.keras.models import Sequential\n",
    "from tensorflow.keras.optimizers import Adam\n",
    "from tensorflow.keras.utils import to_categorical\n",
    "\n",
    "from sklearn.model_selection import train_test_split"
   ]
  },
  {
   "cell_type": "code",
   "execution_count": 275,
   "metadata": {},
   "outputs": [],
   "source": [
    "class ModelConfig:\n",
    "    # Model configuration\n",
    "    batch_size = 128\n",
    "    lstm_units = 10\n",
    "    loss_function = CategoricalCrossentropy()\n",
    "    max_sequence_length = 50\n",
    "    epochs = 50\n",
    "    optimizer = Adam()\n",
    "    validation_split = 0.2\n",
    "    verbosity = 1\n",
    "    metrics = ['accuracy']"
   ]
  },
  {
   "cell_type": "code",
   "execution_count": 58,
   "metadata": {},
   "outputs": [],
   "source": [
    "class Semantic:\n",
    "    black_keys = set(['C#','Bb','D#','Eb','F#','Gb','G#','Ab','A#','Bb'])\n",
    "    key_map = {'Cb': -1, 'C': 0, 'C#': 1, 'Db': 1, 'D': 2, 'D#': 3, 'Eb': 3,\n",
    "               'E': 4, 'Fb': 4, 'E#': 5, 'F': 5, 'F#': 6, 'Gb': 6, 'G': 7, 'G#': 8,\n",
    "               'Ab': 8, 'A': 9, 'A#': 10, 'Bb': 10, 'B': 11, 'B#': 12}\n",
    "    remove_digits = str.maketrans('', '', digits)\n",
    "    octave_semitones = 12\n",
    "    \n",
    "    @classmethod\n",
    "    def is_black_key(cls, key):\n",
    "        # Enumerate black keys. Do not filter by checking for '#' or 'b' in the string, because\n",
    "        # composers sometimes write things like E# or Cb, which are not black keys.\n",
    "        # The string translate() method is faster than iterating manually.\n",
    "        key = key.translate(cls.remove_digits)\n",
    "        return key in cls.black_keys\n",
    "    \n",
    "    @classmethod\n",
    "    def get_semitone_distances(cls, notes):\n",
    "        # fill in missing octave digits\n",
    "        notes = [x for x in map(lambda n: n if any(i.isdigit() for i in n) else n+'4', notes)]\n",
    "\n",
    "        # compute semitone differences\n",
    "        # initialize first note semitone distance to 0\n",
    "        notes = [notes[0]] + notes\n",
    "        diffs = []\n",
    "        for i in range(len(notes) - 1):\n",
    "            before = notes[i]\n",
    "            after = notes[i+1]\n",
    "\n",
    "            before = int(before[-1]) * cls.octave_semitones + cls.key_map[before[:-1]]\n",
    "            after = int(after[-1]) * cls.octave_semitones + cls.key_map[after[:-1]]\n",
    "            diffs.append(after - before)\n",
    "        return diffs\n",
    "    \n",
    "    @classmethod\n",
    "    def get_embedding(cls, tokens):\n",
    "        # embeds tokens as inputs to model\n",
    "        # for the piano model, we don't really care which octave we're at\n",
    "        # in fact, we can simplify the notes into semitone distance from previous note,\n",
    "        # and whether the current note is a white or black key (affects ease of playing)\n",
    "        # note that the primus dataset does not have double-sharp/flat as inputs\n",
    "\n",
    "        # combine multiple lines, if any\n",
    "        tokens = '\\t'.join(tokens)\n",
    "        tokens = tokens.split('\\t')\n",
    "        # only use notes\n",
    "        tokens = [y for y in filter(lambda x: x.startswith('note-') or x.startswith('gracenote-'), tokens)]\n",
    "        # ignore note lengths\n",
    "        tokens = [y for y in map(lambda x: x.split('_')[0][5:] if x.startswith('note-') else x.split('_')[0][10:]\n",
    "                                 , tokens)]\n",
    "        # get black_keys\n",
    "        black_keys = [1 if x else 0 for x in map(cls.is_black_key, tokens)]\n",
    "        semitone_distances = cls.get_semitone_distances(tokens)\n",
    "        \n",
    "        return [[x,y] for x, y in zip(black_keys, semitone_distances)]\n",
    "    \n",
    "    @classmethod\n",
    "    def get_embedding_from_file(cls, path):\n",
    "        with open(path, \"r\") as f:\n",
    "            try:\n",
    "                return cls.get_embedding(f.readlines())\n",
    "            except FileNotFoundError:\n",
    "                logging.warn(\"Semantic Data file not found: {}\".format(path))"
   ]
  },
  {
   "cell_type": "code",
   "execution_count": 217,
   "metadata": {},
   "outputs": [],
   "source": [
    "class ETL:\n",
    "    data_dirs = ['../data/package_aa']# , '../data/package_ab']\n",
    "    @classmethod\n",
    "    def parse_finger_file(cls, path):\n",
    "        with open(path, \"r\") as f:\n",
    "            try:\n",
    "                return [x for x in map(int, f.readline().split(' '))]\n",
    "            except FileNotFoundError:\n",
    "                logging.warn(\"Finger Data file not found: {}\".format(path))\n",
    "        \n",
    "    def get_data(self, n=-1, pad = 50):\n",
    "        X, y = [], []\n",
    "        count, stop = 0, False\n",
    "        for data_dir in ETL.data_dirs:\n",
    "            if stop:\n",
    "                break\n",
    "            for i, folder in enumerate(next(os.walk(data_dir))[1]):\n",
    "                semantic_file = os.path.join(data_dir, folder, \"{}.semantic\".format(folder))\n",
    "                finger_file = os.path.join(data_dir, folder, \"{}.finger\".format(folder))\n",
    "                \n",
    "                if not os.path.exists(semantic_file) or not os.path.exists(finger_file):\n",
    "                    continue\n",
    "                \n",
    "                X_i = Semantic.get_embedding_from_file(semantic_file)\n",
    "                y_i = ETL.parse_finger_file(finger_file)\n",
    "                \n",
    "                # pad sequences\n",
    "                X_i += [[-1, 0] for _ in range(pad-len(X_i))]\n",
    "                y_i += [0 for _ in range(pad-len(y_i))]\n",
    "                \n",
    "                X.append(X_i)\n",
    "                y.append(y_i)\n",
    "                count += 1\n",
    "                if n != -1 and count >= n:\n",
    "                    stop = True\n",
    "                    break\n",
    "            \n",
    "        X = np.array(X)\n",
    "        y = np.array(y)\n",
    "        \n",
    "        return X, y\n",
    "                "
   ]
  },
  {
   "cell_type": "markdown",
   "metadata": {},
   "source": [
    "Main Workflow"
   ]
  },
  {
   "cell_type": "code",
   "execution_count": 251,
   "metadata": {},
   "outputs": [],
   "source": [
    "store_path = './cache'\n",
    "store_file_path = './cache/etl_cache.pkl'\n",
    "\n",
    "test_proportion = 0.1\n",
    "\n",
    "logger = logging.getLogger()\n",
    "logger.setLevel(logging.DEBUG)"
   ]
  },
  {
   "cell_type": "code",
   "execution_count": null,
   "metadata": {},
   "outputs": [],
   "source": [
    "etl = ETL()\n",
    "# X.shape = (samples, length, features)\n",
    "# y.shape = (samples, length)\n",
    "X, y = etl.get_data(pad = ModelConfig.max_sequence_length)"
   ]
  },
  {
   "cell_type": "code",
   "execution_count": 183,
   "metadata": {},
   "outputs": [],
   "source": [
    "if not os.path.exists(store_path):\n",
    "    os.makedirs(store_path)\n",
    "with open(store_file_path, 'wb+') as f:\n",
    "    pickle.dump(X, f)\n",
    "    pickle.dump(y, f)"
   ]
  },
  {
   "cell_type": "code",
   "execution_count": 262,
   "metadata": {},
   "outputs": [
    {
     "name": "stdout",
     "output_type": "stream",
     "text": [
      "(23929, 50, 2) (23929, 50, 6)\n"
     ]
    }
   ],
   "source": [
    "f = open(store_file_path, 'rb')\n",
    "X = pickle.load(f).astype(np.float32)\n",
    "y = pickle.load(f)\n",
    "y = to_categorical(y)\n",
    "    \n",
    "print(X.shape, y.shape)"
   ]
  },
  {
   "cell_type": "code",
   "execution_count": 263,
   "metadata": {},
   "outputs": [
    {
     "name": "stdout",
     "output_type": "stream",
     "text": [
      "(21536, 50, 2) (21536, 50, 6)\n"
     ]
    }
   ],
   "source": [
    "X_train, X_test, y_train, y_test = train_test_split(X, y, test_size=test_proportion, random_state=42)\n",
    "print(X_train.shape, y_train.shape)"
   ]
  },
  {
   "cell_type": "code",
   "execution_count": 264,
   "metadata": {},
   "outputs": [],
   "source": [
    "model = Sequential()\n",
    "model.add(Bidirectional(LSTM(ModelConfig.lstm_units, \n",
    "                             input_shape=(ModelConfig.max_sequence_length, 2),\n",
    "                             return_sequences=True)))\n",
    "model.add(TimeDistributed(Dense(6, activation='softmax')))\n"
   ]
  },
  {
   "cell_type": "code",
   "execution_count": 280,
   "metadata": {},
   "outputs": [],
   "source": [
    "model.compile(optimizer=ModelConfig.optimizer,\n",
    "             loss=ModelConfig.loss_function,\n",
    "             metrics=ModelConfig.metrics)"
   ]
  },
  {
   "cell_type": "code",
   "execution_count": 276,
   "metadata": {},
   "outputs": [
    {
     "name": "stdout",
     "output_type": "stream",
     "text": [
      "Epoch 1/50\n",
      "135/135 [==============================] - 2s 13ms/step - loss: 0.2919 - val_loss: 0.2870\n",
      "Epoch 2/50\n",
      "135/135 [==============================] - 2s 13ms/step - loss: 0.2827 - val_loss: 0.2776\n",
      "Epoch 3/50\n",
      "135/135 [==============================] - 2s 13ms/step - loss: 0.2734 - val_loss: 0.2689\n",
      "Epoch 4/50\n",
      "135/135 [==============================] - 2s 13ms/step - loss: 0.2650 - val_loss: 0.2614\n",
      "Epoch 5/50\n",
      "135/135 [==============================] - 2s 13ms/step - loss: 0.2576 - val_loss: 0.2547\n",
      "Epoch 6/50\n",
      "135/135 [==============================] - 2s 13ms/step - loss: 0.2507 - val_loss: 0.2481\n",
      "Epoch 7/50\n",
      "135/135 [==============================] - 2s 13ms/step - loss: 0.2442 - val_loss: 0.2418\n",
      "Epoch 8/50\n",
      "135/135 [==============================] - 2s 13ms/step - loss: 0.2378 - val_loss: 0.2358\n",
      "Epoch 9/50\n",
      "135/135 [==============================] - 2s 13ms/step - loss: 0.2315 - val_loss: 0.2296\n",
      "Epoch 10/50\n",
      "135/135 [==============================] - 2s 13ms/step - loss: 0.2256 - val_loss: 0.2241\n",
      "Epoch 11/50\n",
      "135/135 [==============================] - 2s 14ms/step - loss: 0.2198 - val_loss: 0.2190\n",
      "Epoch 12/50\n",
      "135/135 [==============================] - 2s 14ms/step - loss: 0.2146 - val_loss: 0.2143\n",
      "Epoch 13/50\n",
      "135/135 [==============================] - 2s 14ms/step - loss: 0.2100 - val_loss: 0.2101\n",
      "Epoch 14/50\n",
      "135/135 [==============================] - 2s 13ms/step - loss: 0.2060 - val_loss: 0.2063\n",
      "Epoch 15/50\n",
      "135/135 [==============================] - 2s 14ms/step - loss: 0.2024 - val_loss: 0.2029\n",
      "Epoch 16/50\n",
      "135/135 [==============================] - 2s 14ms/step - loss: 0.1991 - val_loss: 0.1997\n",
      "Epoch 17/50\n",
      "135/135 [==============================] - 2s 13ms/step - loss: 0.1960 - val_loss: 0.1967\n",
      "Epoch 18/50\n",
      "135/135 [==============================] - 2s 13ms/step - loss: 0.1931 - val_loss: 0.1942\n",
      "Epoch 19/50\n",
      "135/135 [==============================] - 2s 13ms/step - loss: 0.1906 - val_loss: 0.1916\n",
      "Epoch 20/50\n",
      "135/135 [==============================] - 2s 13ms/step - loss: 0.1882 - val_loss: 0.1893\n",
      "Epoch 21/50\n",
      "135/135 [==============================] - 2s 13ms/step - loss: 0.1859 - val_loss: 0.1871\n",
      "Epoch 22/50\n",
      "135/135 [==============================] - 2s 13ms/step - loss: 0.1837 - val_loss: 0.1854\n",
      "Epoch 23/50\n",
      "135/135 [==============================] - 2s 13ms/step - loss: 0.1816 - val_loss: 0.1829\n",
      "Epoch 24/50\n",
      "135/135 [==============================] - 2s 13ms/step - loss: 0.1796 - val_loss: 0.1813\n",
      "Epoch 25/50\n",
      "135/135 [==============================] - 2s 13ms/step - loss: 0.1776 - val_loss: 0.1793\n",
      "Epoch 26/50\n",
      "135/135 [==============================] - 2s 13ms/step - loss: 0.1758 - val_loss: 0.1778\n",
      "Epoch 27/50\n",
      "135/135 [==============================] - 2s 13ms/step - loss: 0.1740 - val_loss: 0.1762\n",
      "Epoch 28/50\n",
      "135/135 [==============================] - 2s 13ms/step - loss: 0.1724 - val_loss: 0.1747\n",
      "Epoch 29/50\n",
      "135/135 [==============================] - 2s 13ms/step - loss: 0.1708 - val_loss: 0.1732\n",
      "Epoch 30/50\n",
      "135/135 [==============================] - 2s 13ms/step - loss: 0.1692 - val_loss: 0.1718\n",
      "Epoch 31/50\n",
      "135/135 [==============================] - 2s 13ms/step - loss: 0.1678 - val_loss: 0.1703\n",
      "Epoch 32/50\n",
      "135/135 [==============================] - 2s 13ms/step - loss: 0.1663 - val_loss: 0.1689\n",
      "Epoch 33/50\n",
      "135/135 [==============================] - 2s 13ms/step - loss: 0.1651 - val_loss: 0.1677\n",
      "Epoch 34/50\n",
      "135/135 [==============================] - 2s 13ms/step - loss: 0.1634 - val_loss: 0.1662\n",
      "Epoch 35/50\n",
      "135/135 [==============================] - 2s 13ms/step - loss: 0.1620 - val_loss: 0.1649\n",
      "Epoch 36/50\n",
      "135/135 [==============================] - 2s 13ms/step - loss: 0.1607 - val_loss: 0.1634\n",
      "Epoch 37/50\n",
      "135/135 [==============================] - 2s 13ms/step - loss: 0.1593 - val_loss: 0.1622\n",
      "Epoch 38/50\n",
      "135/135 [==============================] - 2s 13ms/step - loss: 0.1581 - val_loss: 0.1609\n",
      "Epoch 39/50\n",
      "135/135 [==============================] - 2s 13ms/step - loss: 0.1567 - val_loss: 0.1597\n",
      "Epoch 40/50\n",
      "135/135 [==============================] - 2s 13ms/step - loss: 0.1559 - val_loss: 0.1587\n",
      "Epoch 41/50\n",
      "135/135 [==============================] - 2s 13ms/step - loss: 0.1544 - val_loss: 0.1575\n",
      "Epoch 42/50\n",
      "135/135 [==============================] - 2s 13ms/step - loss: 0.1532 - val_loss: 0.1564\n",
      "Epoch 43/50\n",
      "135/135 [==============================] - 2s 13ms/step - loss: 0.1521 - val_loss: 0.1553\n",
      "Epoch 44/50\n",
      "135/135 [==============================] - 2s 13ms/step - loss: 0.1509 - val_loss: 0.1542\n",
      "Epoch 45/50\n",
      "135/135 [==============================] - 2s 13ms/step - loss: 0.1499 - val_loss: 0.1530\n",
      "Epoch 46/50\n",
      "135/135 [==============================] - 2s 13ms/step - loss: 0.1488 - val_loss: 0.1523\n",
      "Epoch 47/50\n",
      "135/135 [==============================] - 2s 13ms/step - loss: 0.1479 - val_loss: 0.1509\n",
      "Epoch 48/50\n",
      "135/135 [==============================] - 2s 13ms/step - loss: 0.1468 - val_loss: 0.1501\n",
      "Epoch 49/50\n",
      "135/135 [==============================] - 2s 13ms/step - loss: 0.1458 - val_loss: 0.1488\n",
      "Epoch 50/50\n",
      "135/135 [==============================] - 2s 13ms/step - loss: 0.1449 - val_loss: 0.1479\n"
     ]
    }
   ],
   "source": [
    "history = model.fit(X_train,\n",
    "                   y_train,\n",
    "                   batch_size=ModelConfig.batch_size,\n",
    "                   epochs=ModelConfig.epochs,\n",
    "                   verbose=ModelConfig.verbosity,\n",
    "                   validation_split=ModelConfig.validation_split,)"
   ]
  },
  {
   "cell_type": "code",
   "execution_count": 281,
   "metadata": {},
   "outputs": [
    {
     "name": "stdout",
     "output_type": "stream",
     "text": [
      "75/75 [==============================] - 1s 3ms/step - loss: 0.1451 - accuracy: 0.9508\n"
     ]
    }
   ],
   "source": [
    "test_results = model.evaluate(X_test, y_test)"
   ]
  },
  {
   "cell_type": "code",
   "execution_count": 282,
   "metadata": {},
   "outputs": [
    {
     "name": "stdout",
     "output_type": "stream",
     "text": [
      "0.9507814645767212\n"
     ]
    }
   ],
   "source": [
    "print(test_results[1])"
   ]
  },
  {
   "cell_type": "code",
   "execution_count": null,
   "metadata": {},
   "outputs": [],
   "source": []
  }
 ],
 "metadata": {
  "kernelspec": {
   "display_name": "Python 3",
   "language": "python",
   "name": "python3"
  },
  "language_info": {
   "codemirror_mode": {
    "name": "ipython",
    "version": 3
   },
   "file_extension": ".py",
   "mimetype": "text/x-python",
   "name": "python",
   "nbconvert_exporter": "python",
   "pygments_lexer": "ipython3",
   "version": "3.7.6"
  }
 },
 "nbformat": 4,
 "nbformat_minor": 4
}
